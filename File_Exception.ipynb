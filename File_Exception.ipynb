{
 "cells": [
  {
   "cell_type": "code",
   "execution_count": 2,
   "id": "a53dd3ce",
   "metadata": {},
   "outputs": [
    {
     "name": "stdout",
     "output_type": "stream",
     "text": [
      "Enter a name\n",
      "rm\n",
      "Good Morning, rm\n"
     ]
    }
   ],
   "source": [
    "def greet(name):\n",
    "    print(f\"Good Morning, {name}\")\n",
    "    \n",
    "n = input(\"Enter a name\\n\")\n",
    "greet(n)"
   ]
  },
  {
   "cell_type": "code",
   "execution_count": 4,
   "id": "92561bd6",
   "metadata": {},
   "outputs": [
    {
     "name": "stdout",
     "output_type": "stream",
     "text": [
      "__main__\n",
      "Enter a name\n",
      "kira\n",
      "Good Morning, kira\n"
     ]
    }
   ],
   "source": [
    "def greet(name):\n",
    "    print(f\"Good Morning, {name}\")\n",
    "print(__name__)\n",
    "    \n",
    "if __name__ == \"__main__\":\n",
    "     \n",
    "    n = input(\"Enter a name\\n\")\n",
    "    greet(n)"
   ]
  },
  {
   "cell_type": "code",
   "execution_count": null,
   "id": "1521b062",
   "metadata": {},
   "outputs": [],
   "source": []
  }
 ],
 "metadata": {
  "kernelspec": {
   "display_name": "Python 3 (ipykernel)",
   "language": "python",
   "name": "python3"
  },
  "language_info": {
   "codemirror_mode": {
    "name": "ipython",
    "version": 3
   },
   "file_extension": ".py",
   "mimetype": "text/x-python",
   "name": "python",
   "nbconvert_exporter": "python",
   "pygments_lexer": "ipython3",
   "version": "3.9.7"
  }
 },
 "nbformat": 4,
 "nbformat_minor": 5
}
